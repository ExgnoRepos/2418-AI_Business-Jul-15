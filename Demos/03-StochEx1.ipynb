{
 "cells": [
  {
   "cell_type": "markdown",
   "id": "fbd66a17-df3a-40b9-af23-8a1220ac1448",
   "metadata": {},
   "source": [
    "## Cancer Predictions\n",
    "\n",
    "In the simplest case there are two outcomes, which is called binomial, an example of which is predicting if a tumor is cancerous based on its size\n",
    "\n"
   ]
  },
  {
   "cell_type": "code",
   "execution_count": null,
   "id": "43f8c755-9d2f-40e1-8151-d921e6d34e53",
   "metadata": {},
   "outputs": [],
   "source": [
    "import numpy \n",
    "from sklearn import linear_model "
   ]
  },
  {
   "cell_type": "markdown",
   "id": "de961569-896a-4599-b575-da1f89f0e555",
   "metadata": {},
   "source": [
    "## Create some test data"
   ]
  },
  {
   "cell_type": "code",
   "execution_count": null,
   "id": "b636ead0-2805-4f9d-a169-d343fa8f3d95",
   "metadata": {},
   "outputs": [],
   "source": [
    "tumor_size = numpy.array([3.78, 2.44, 2.09, 0.14, 1.72, 1.65, 4.92, 4.37, 4.96, 4.52, 3.69, 5.88]).reshape(-1,1)\n",
    "\n",
    "cancer = numpy.array([0, 0, 0, 0, 0, 0, 1, 1, 1, 1, 1, 1]) "
   ]
  },
  {
   "cell_type": "markdown",
   "id": "ccfc2371-bf06-4d5c-b893-5c982689e50a",
   "metadata": {},
   "source": [
    "## Create the model and make a prediction for 3.46cm sized tumor"
   ]
  },
  {
   "cell_type": "code",
   "execution_count": null,
   "id": "34efd89d-2dfd-4bd1-ba61-a08aea1f33fa",
   "metadata": {},
   "outputs": [],
   "source": [
    "logr = linear_model.LogisticRegression()\n",
    "logr.fit(tumor_size,cancer)\n"
   ]
  },
  {
   "cell_type": "code",
   "execution_count": null,
   "id": "e4830564-f1b5-49e6-af8c-c3ad4e1ab74a",
   "metadata": {},
   "outputs": [],
   "source": [
    "predicted = logr.predict(numpy.array([3.46]).reshape(-1,1))\n",
    "print(predicted) "
   ]
  },
  {
   "cell_type": "markdown",
   "id": "2dcdc875-cc7b-4a60-b0ac-3247e019fda6",
   "metadata": {},
   "source": [
    "Based on the model, this is not cancerous"
   ]
  },
  {
   "cell_type": "markdown",
   "id": "bc072ec2-e56b-49c9-937a-a50eeff52bed",
   "metadata": {},
   "source": [
    "## Coefficient\n",
    "\n",
    "In logistic regression the coefficient is the expected change in log-odds of having the outcome per unit change in the imput.\n"
   ]
  },
  {
   "cell_type": "code",
   "execution_count": null,
   "id": "9ad0e36f-29be-4a28-8a43-13a1f1893818",
   "metadata": {},
   "outputs": [],
   "source": [
    "log_odds = logr.coef_\n",
    "odds = numpy.exp(log_odds)\n",
    "\n",
    "print(odds) "
   ]
  },
  {
   "cell_type": "markdown",
   "id": "9de90a09-2027-4a6c-a408-7da1a1843cf5",
   "metadata": {},
   "source": [
    "This means that for each 1mm increase in size, the chance of the tumor being cancerus become 4 time more likely"
   ]
  },
  {
   "cell_type": "markdown",
   "id": "e5c4bb63-8c61-47fe-bdfd-010918fd5e36",
   "metadata": {},
   "source": [
    "## Probability\n",
    "\n",
    "The coefficient and intercept values can be used to find the probability that each tumor is cancerous.\n",
    "\n",
    "Create a function that uses the model's coefficient and intercept values to return a new value. This new value represents probability that the given observation is a tumor:"
   ]
  },
  {
   "cell_type": "code",
   "execution_count": null,
   "id": "3c67df7e-10b3-4801-b04f-a34239530b84",
   "metadata": {},
   "outputs": [],
   "source": [
    "def logit2prob(logr,x):\n",
    "  log_odds = logr.coef_ * x + logr.intercept_\n",
    "  odds = numpy.exp(log_odds)\n",
    "  probability = odds / (1 + odds)\n",
    "  return(probability)"
   ]
  },
  {
   "cell_type": "markdown",
   "id": "2b7010a3-bb68-4127-8982-f54ae217690c",
   "metadata": {},
   "source": [
    "Let us now use the function with what we have learned to find out the probability that each tumor is cancerous."
   ]
  },
  {
   "cell_type": "code",
   "execution_count": null,
   "id": "b8794d90-6e3e-4e90-9e66-92643b424312",
   "metadata": {},
   "outputs": [],
   "source": [
    "print(logit2prob(logr, tumor_size)) "
   ]
  },
  {
   "cell_type": "code",
   "execution_count": null,
   "id": "022c3b02-7a9e-40ea-8890-443d17fdd92e",
   "metadata": {},
   "outputs": [],
   "source": []
  }
 ],
 "metadata": {
  "kernelspec": {
   "display_name": "conda_python3",
   "language": "python",
   "name": "conda_python3"
  },
  "language_info": {
   "codemirror_mode": {
    "name": "ipython",
    "version": 3
   },
   "file_extension": ".py",
   "mimetype": "text/x-python",
   "name": "python",
   "nbconvert_exporter": "python",
   "pygments_lexer": "ipython3",
   "version": "3.10.6"
  }
 },
 "nbformat": 4,
 "nbformat_minor": 5
}
