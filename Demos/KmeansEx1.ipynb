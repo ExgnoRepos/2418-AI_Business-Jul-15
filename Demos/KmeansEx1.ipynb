{
 "cells": [
  {
   "cell_type": "markdown",
   "id": "d2ac57e5-c601-4547-9786-34978bfc4980",
   "metadata": {},
   "source": [
    "# K-Means Simple Example 1\n",
    "\n",
    "For this example, we will use the slkearn Python library\n",
    "\n",
    "#### Problem Statement\n",
    "Given a set of basketball players with data for points, assists and rebounds, we want to see if there is some grouping among the players\n",
    "\n",
    "## Step One - Set up the imports\n"
   ]
  },
  {
   "cell_type": "code",
   "execution_count": 1,
   "id": "54200f91-a916-4482-8cd0-093c3a4f2254",
   "metadata": {},
   "outputs": [],
   "source": [
    "import pandas as pd\n",
    "import numpy as np\n",
    "import matplotlib.pyplot as plt\n",
    "from sklearn.cluster import KMeans\n",
    "from sklearn.preprocessing import StandardScaler"
   ]
  },
  {
   "cell_type": "markdown",
   "id": "f91479a0-b533-42b7-82e8-a7ee812f59a3",
   "metadata": {},
   "source": [
    "## Step Two - Import the Data"
   ]
  },
  {
   "cell_type": "code",
   "execution_count": 2,
   "id": "e28ef91a-d3d3-485c-91f8-a8caed3b7990",
   "metadata": {},
   "outputs": [
    {
     "name": "stdout",
     "output_type": "stream",
     "text": [
      "   points  assists  rebounds\n",
      "0    18.0      3.0        15\n",
      "1     NaN      3.0        14\n",
      "2    19.0      4.0        14\n",
      "3    14.0      5.0        10\n",
      "4    14.0      4.0         8\n"
     ]
    }
   ],
   "source": [
    "df = pd.DataFrame({'points': [18, np.nan, 19, 14, 14, 11, 20, 28, 30, 31,\n",
    "                              35, 33, 29, 25, 25, 27, 29, 30, 19, 23],\n",
    "                   'assists': [3, 3, 4, 5, 4, 7, 8, 7, 6, 9, 12, 14,\n",
    "                               np.nan, 9, 4, 3, 4, 12, 15, 11],\n",
    "                   'rebounds': [15, 14, 14, 10, 8, 14, 13, 9, 5, 4,\n",
    "                                11, 6, 5, 5, 3, 8, 12, 7, 6, 5]})\n",
    "print(df.head())\n"
   ]
  },
  {
   "cell_type": "markdown",
   "id": "d65fdac7-fcc9-412c-b295-b13f913faa1e",
   "metadata": {},
   "source": [
    "## Step Three - Clean and scale the data\n",
    "\n",
    "Notice that there is a missing measurement and the different features are all scaled differently.\n",
    "\n",
    "To get a better result, we need to clean and scale the data\n",
    "\n",
    "1. Drop any rows with a NaN in any column\n",
    "2. Scale each feature so that it has a mean of 0 and a standard deviation of 1\n"
   ]
  },
  {
   "cell_type": "code",
   "execution_count": 3,
   "id": "74384b69-e0e6-4700-b4df-ac97ab381280",
   "metadata": {},
   "outputs": [
    {
     "name": "stdout",
     "output_type": "stream",
     "text": [
      "[[-0.86660275 -1.22683918  1.72722524]\n",
      " [-0.72081911 -0.96077767  1.45687694]\n",
      " [-1.44973731 -0.69471616  0.37548375]\n",
      " [-1.44973731 -0.96077767 -0.16521285]\n",
      " [-1.88708823 -0.16259314  1.45687694]]\n"
     ]
    }
   ],
   "source": [
    "df = df.dropna()\n",
    "scaled_df = StandardScaler().fit_transform(df)\n",
    "print(scaled_df[:5])"
   ]
  },
  {
   "cell_type": "markdown",
   "id": "6833f062-32c5-4a50-a826-5a9aba2879ed",
   "metadata": {},
   "source": [
    "## Step Four - Determine the number of clusters\n",
    "\n",
    "1. Uses the function KMeans(init=’random’, n_clusters=k, n_init=n, random_state=None)\n",
    "2. This will be run 10 times with different values of k\n",
    "3. The SSE error values will be saved for each run"
   ]
  },
  {
   "cell_type": "code",
   "execution_count": 5,
   "id": "9a0f0237-203b-4e3c-8031-0723808d3a1d",
   "metadata": {},
   "outputs": [],
   "source": [
    "sse = []\n",
    "for k in range(1, 11):\n",
    "    kmeans = KMeans(n_clusters=k, init=\"random\", n_init=10, random_state=1)\n",
    "    kmeans.fit(scaled_df)\n",
    "    sse.append(kmeans.inertia_)"
   ]
  },
  {
   "cell_type": "markdown",
   "id": "7a30e0b7-111b-4327-a151-567e9ca94355",
   "metadata": {},
   "source": [
    "Now evaluate the result looking for elbows"
   ]
  },
  {
   "cell_type": "code",
   "execution_count": 6,
   "id": "04478151-d255-49ec-a8c7-e22ddf3583c3",
   "metadata": {},
   "outputs": [
    {
     "data": {
      "image/png": "[encoded data removed]",
      "text/plain": [
       "<Figure size 640x480 with 1 Axes>"
      ]
     },
     "metadata": {},
     "output_type": "display_data"
    }
   ],
   "source": [
    "plt.plot(range(1, 11), sse)\n",
    "plt.xticks(range(1, 11))\n",
    "plt.xlabel(\"Number of Clusters\")\n",
    "plt.ylabel(\"SSE\")\n",
    "plt.show()"
   ]
  },
  {
   "cell_type": "markdown",
   "id": "6c631922-0e59-4974-8942-47ba413d8032",
   "metadata": {},
   "source": [
    "There is an elbow at k=3 so we will use that as the number of clusters and look at the cluster assignemnts"
   ]
  },
  {
   "cell_type": "code",
   "execution_count": 8,
   "id": "d1907529-7b51-446f-b36c-63b46fa2d862",
   "metadata": {},
   "outputs": [
    {
     "data": {
      "text/plain": [
       "array([1, 1, 1, 1, 1, 1, 2, 2, 0, 0, 0, 0, 2, 2, 2, 0, 0, 0], dtype=int32)"
      ]
     },
     "execution_count": 8,
     "metadata": {},
     "output_type": "execute_result"
    }
   ],
   "source": [
    "kmeans = KMeans(init=\"random\", n_clusters=3, n_init=10, random_state=1)\n",
    "kmeans.fit(scaled_df)\n",
    "kmeans.labels_"
   ]
  },
  {
   "cell_type": "markdown",
   "id": "612a196a-9d3f-4388-8ad6-af6e8dd53ae2",
   "metadata": {},
   "source": [
    "## Step Five - Display the original data with the cluster assignments\n"
   ]
  },
  {
   "cell_type": "code",
   "execution_count": 9,
   "id": "c88130c5-481f-4b26-9d36-f8b7f888ec7d",
   "metadata": {},
   "outputs": [
    {
     "name": "stdout",
     "output_type": "stream",
     "text": [
      "    points  assists  rebounds  cluster\n",
      "0     18.0      3.0        15        1\n",
      "2     19.0      4.0        14        1\n",
      "3     14.0      5.0        10        1\n",
      "4     14.0      4.0         8        1\n",
      "5     11.0      7.0        14        1\n",
      "6     20.0      8.0        13        1\n",
      "7     28.0      7.0         9        2\n",
      "8     30.0      6.0         5        2\n",
      "9     31.0      9.0         4        0\n",
      "10    35.0     12.0        11        0\n",
      "11    33.0     14.0         6        0\n",
      "13    25.0      9.0         5        0\n",
      "14    25.0      4.0         3        2\n",
      "15    27.0      3.0         8        2\n",
      "16    29.0      4.0        12        2\n",
      "17    30.0     12.0         7        0\n",
      "18    19.0     15.0         6        0\n",
      "19    23.0     11.0         5        0\n"
     ]
    }
   ],
   "source": [
    "df['cluster'] = kmeans.labels_\n",
    "print(df)"
   ]
  },
  {
   "cell_type": "code",
   "execution_count": null,
   "id": "e0144cc4-7060-4940-8c2f-5760470bf1d5",
   "metadata": {},
   "outputs": [],
   "source": []
  }
 ],
 "metadata": {
  "kernelspec": {
   "display_name": "conda_python3",
   "language": "python",
   "name": "conda_python3"
  },
  "language_info": {
   "codemirror_mode": {
    "name": "ipython",
    "version": 3
   },
   "file_extension": ".py",
   "mimetype": "text/x-python",
   "name": "python",
   "nbconvert_exporter": "python",
   "pygments_lexer": "ipython3",
   "version": "3.10.6"
  }
 },
 "nbformat": 4,
 "nbformat_minor": 5
}
