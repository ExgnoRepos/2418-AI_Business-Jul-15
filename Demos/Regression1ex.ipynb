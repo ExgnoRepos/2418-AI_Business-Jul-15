{
 "cells": [
  {
   "cell_type": "markdown",
   "id": "31c5f262-b0e4-4780-8485-89a12b96f64b",
   "metadata": {},
   "source": [
    "# Linear Regression - Example 1 - Tips\n",
    "\n",
    "## Step 1 - Load Data\n"
   ]
  },
  {
   "cell_type": "code",
   "execution_count": null,
   "id": "7fbfa8cd-ddd5-4c5d-9a75-0172ba53a7bb",
   "metadata": {},
   "outputs": [],
   "source": [
    "import pandas as pd\n",
    "\n",
    "tip_data = pd.DataFrame({'bill' : [50.00, 30.00, 60.00, 40.00, 65.00, 20.00, 10.00, 15.00, 25.00, 35.00],\n",
    "                        'tip' : [12.00, 7.00, 13.00, 8.00, 15.00, 5.00, 2.00, 2.00, 3.00, 4.00]})\n",
    "tip_data"
   ]
  },
  {
   "cell_type": "markdown",
   "id": "4734fcaf-fd37-4044-b7b7-37812cdb7aea",
   "metadata": {},
   "source": [
    "## Step 2 - Exploratory Data Analytics (EDA)\n",
    "Do some basic plots ..etc"
   ]
  },
  {
   "cell_type": "code",
   "execution_count": null,
   "id": "2d47c6a1-186a-4da0-b30d-5f18b800df61",
   "metadata": {},
   "outputs": [],
   "source": [
    "## describe\n",
    "tip_data.describe()"
   ]
  },
  {
   "cell_type": "code",
   "execution_count": null,
   "id": "6232248c-5538-49ca-9990-34a10dabeaff",
   "metadata": {},
   "outputs": [],
   "source": [
    "## plot \n",
    "%matplotlib inline\n",
    "import matplotlib.pyplot as plt\n",
    "\n",
    "plt.scatter(tip_data['bill'], tip_data['tip'])"
   ]
  },
  {
   "cell_type": "markdown",
   "id": "b77427a9-1425-4ef5-be3e-3e1c8369a2f4",
   "metadata": {},
   "source": [
    "## Step 3 - Shape Data"
   ]
  },
  {
   "cell_type": "code",
   "execution_count": null,
   "id": "c998b888-9280-4e08-a3fb-84ba5e76f4ec",
   "metadata": {},
   "outputs": [],
   "source": [
    "x = tip_data[['bill']]\n",
    "print(x)\n",
    "\n",
    "y = tip_data[['tip']]\n",
    "print (y)"
   ]
  },
  {
   "cell_type": "markdown",
   "id": "c1daa088-e6d6-45cf-a398-2af01d3967bd",
   "metadata": {},
   "source": [
    "## Step 4 : Do Linear Regression"
   ]
  },
  {
   "cell_type": "code",
   "execution_count": null,
   "id": "5a9baef9-9b66-438e-950e-30302d431efe",
   "metadata": {},
   "outputs": [],
   "source": [
    "from sklearn.linear_model import LinearRegression\n",
    "\n",
    "\n",
    "model = LinearRegression ().fit(x, y)\n",
    "model"
   ]
  },
  {
   "cell_type": "markdown",
   "id": "3aa3090d-10f5-4cd2-b7e2-6d7ab8f06cce",
   "metadata": {},
   "source": [
    "## Step 5 : Predict"
   ]
  },
  {
   "cell_type": "code",
   "execution_count": null,
   "id": "0d0a77d3-e744-40ed-9091-1c954535fb9d",
   "metadata": {},
   "outputs": [],
   "source": [
    "predictions = model.predict (x)\n",
    "predictions"
   ]
  },
  {
   "cell_type": "markdown",
   "id": "21a66f83-8995-4460-9509-e146fe955cf3",
   "metadata": {},
   "source": [
    "## Step 6 - Compare actual vs. predictions"
   ]
  },
  {
   "cell_type": "code",
   "execution_count": null,
   "id": "8462c95f-b162-4c5a-a11b-4ee1d38fcca6",
   "metadata": {},
   "outputs": [],
   "source": [
    "tip_data['predictions'] = predictions\n",
    "tip_data"
   ]
  },
  {
   "cell_type": "markdown",
   "id": "f098419a-eabf-48e5-83c1-d9e2a0aff285",
   "metadata": {},
   "source": [
    "## Step 7 : Evaluate\n",
    "\n",
    "We can see the model coefficients from below\n",
    "- slope : 0.24\n",
    "- intercept : -1.4\n",
    "\n",
    "And R2 is 90%.  That is pretty good!"
   ]
  },
  {
   "cell_type": "code",
   "execution_count": null,
   "id": "29e77b88-cc01-4b8d-80ce-d5671f862fde",
   "metadata": {},
   "outputs": [],
   "source": [
    "from sklearn.metrics import mean_squared_error, r2_score\n",
    "from math import sqrt\n",
    "\n",
    "print('Coefficients:', model.coef_)\n",
    "print('intercept:', model.intercept_)\n",
    "\n",
    "slope = model.coef_[0][0]\n",
    "intercept = model.intercept_[0]\n",
    "print (\"slope : \", slope, \", intercept: \", intercept)\n",
    "\n",
    "print (\"R2 : \" , r2_score(y, predictions))\n",
    "\n",
    "print (\"MSE : \", mean_squared_error(y, predictions))\n",
    "print (\"RMSE : \", sqrt(mean_squared_error(y, predictions)) )"
   ]
  },
  {
   "cell_type": "code",
   "execution_count": null,
   "id": "f0f77f29-a431-47e3-96d1-e7c0642f4bce",
   "metadata": {},
   "outputs": [],
   "source": [
    "%matplotlib inline\n",
    "import matplotlib.pyplot as plt\n",
    "\n",
    "plt.scatter(x,y , color=\"black\")\n",
    "plt.plot(x, predictions, color='blue')"
   ]
  },
  {
   "cell_type": "markdown",
   "id": "f2406ce7-9a7b-460b-b799-be92c4b8560f",
   "metadata": {},
   "source": [
    "## Step 8 : Predict on some new data"
   ]
  },
  {
   "cell_type": "code",
   "execution_count": null,
   "id": "84693af1-dc2d-4978-94f6-58abde99e9d2",
   "metadata": {},
   "outputs": [],
   "source": [
    "new_data = pd.DataFrame({'bill' : [100,200, 300]})\n",
    "new_data"
   ]
  },
  {
   "cell_type": "code",
   "execution_count": null,
   "id": "abd54b15-d200-42da-891b-c859a8d03ca0",
   "metadata": {},
   "outputs": [],
   "source": [
    "new_tips = model.predict (new_data)\n",
    "new_tips"
   ]
  },
  {
   "cell_type": "code",
   "execution_count": null,
   "id": "2298499e-aadc-4aa4-a86c-83be48621361",
   "metadata": {},
   "outputs": [],
   "source": [
    "new_data['predicted_tip'] = new_tips\n",
    "new_data"
   ]
  },
  {
   "cell_type": "code",
   "execution_count": null,
   "id": "9ca86dd2-139f-4f6e-8d14-03df9a2f8ca2",
   "metadata": {},
   "outputs": [],
   "source": []
  }
 ],
 "metadata": {
  "kernelspec": {
   "display_name": "conda_python3",
   "language": "python",
   "name": "conda_python3"
  },
  "language_info": {
   "codemirror_mode": {
    "name": "ipython",
    "version": 3
   },
   "file_extension": ".py",
   "mimetype": "text/x-python",
   "name": "python",
   "nbconvert_exporter": "python",
   "pygments_lexer": "ipython3",
   "version": "3.10.6"
  }
 },
 "nbformat": 4,
 "nbformat_minor": 5
}
