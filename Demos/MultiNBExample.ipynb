{
 "cells": [
  {
   "cell_type": "markdown",
   "id": "d99ca991-ef05-4ff4-8a6e-68600bfc0155",
   "metadata": {},
   "source": [
    "# Naive Bayes Example 2 - Text analysis\n",
    "\n",
    "__https://jakevdp.github.io/PythonDataScienceHandbook/05.05-naive-bayes.html__\n",
    "\n",
    "One place where multinomial naive Bayes is often used is in text classification, where the features are related to word counts or frequencies within the documents to be classified.Here we will use the sparse word count features from the 20 Newsgroups corpus to show how we might classify these short documents into categories\n",
    "\n",
    "## Step One - Imports"
   ]
  },
  {
   "cell_type": "code",
   "execution_count": null,
   "id": "af503ceb-7ab2-43e5-abf3-4f25706c7245",
   "metadata": {},
   "outputs": [],
   "source": [
    "%matplotlib inline\n",
    "import numpy as np\n",
    "import matplotlib.pyplot as plt\n",
    "import seaborn as sns; sns.set()\n",
    "\n",
    "from sklearn.feature_extraction.text import TfidfVectorizer\n",
    "from sklearn.naive_bayes import MultinomialNB\n",
    "from sklearn.pipeline import make_pipeline\n",
    "\n",
    "from sklearn.metrics import confusion_matrix\n"
   ]
  },
  {
   "cell_type": "markdown",
   "id": "385c7117-6ab2-4a0b-85f2-0760c311e94c",
   "metadata": {},
   "source": [
    "## Step Two - Get the data"
   ]
  },
  {
   "cell_type": "code",
   "execution_count": null,
   "id": "59cc12c1-d543-4ab1-9f1d-54840f90f181",
   "metadata": {},
   "outputs": [],
   "source": [
    "from sklearn.datasets import fetch_20newsgroups\n",
    "data = fetch_20newsgroups()\n",
    "data.target_names"
   ]
  },
  {
   "cell_type": "markdown",
   "id": "f027bad9-7e42-413c-9da2-eced01c7dcb7",
   "metadata": {},
   "source": [
    "Select a few catagories and download test and training datasets"
   ]
  },
  {
   "cell_type": "code",
   "execution_count": null,
   "id": "bce2777f-07c7-4fb5-ba02-8ac783cd4bc1",
   "metadata": {},
   "outputs": [],
   "source": [
    "categories = ['talk.religion.misc', 'soc.religion.christian',\n",
    "              'sci.space', 'comp.graphics']\n",
    "train = fetch_20newsgroups(subset='train', categories=categories)\n",
    "test = fetch_20newsgroups(subset='test', categories=categories)"
   ]
  },
  {
   "cell_type": "markdown",
   "id": "45f28c3a-11f0-46e4-8b2d-b903cbf57abb",
   "metadata": {},
   "source": [
    "Print out a sample data item"
   ]
  },
  {
   "cell_type": "code",
   "execution_count": null,
   "id": "57601d9e-1191-4457-9490-8c834e0b83af",
   "metadata": {},
   "outputs": [],
   "source": [
    "print(train.data[5])\n"
   ]
  },
  {
   "cell_type": "markdown",
   "id": "57f4e548-f743-4d34-a8e2-be592f3875cd",
   "metadata": {},
   "source": [
    "In order to use this data for machine learning, we need to be able to convert the content of each string into a vector of numbers. In other words, we have to preprocess the data\n",
    "\n",
    "For this we will use the TF-IDF vectorizer and create a pipeline that attaches it to a multinomial naive Bayes classifier:"
   ]
  },
  {
   "cell_type": "code",
   "execution_count": null,
   "id": "977cce61-b3c6-42a0-bd7d-1a64b1c0c2cc",
   "metadata": {},
   "outputs": [],
   "source": [
    "model = make_pipeline(TfidfVectorizer(), MultinomialNB())"
   ]
  },
  {
   "cell_type": "markdown",
   "id": "82e2618f-3cca-434f-90cf-db360a673ddd",
   "metadata": {},
   "source": [
    "## S"
   ]
  },
  {
   "cell_type": "code",
   "execution_count": null,
   "id": "f6ec69d3-dee5-43d2-b3fb-9671ea4aa832",
   "metadata": {},
   "outputs": [],
   "source": [
    "model.fit(train.data, train.target)\n",
    "labels = model.predict(test.data)"
   ]
  },
  {
   "cell_type": "code",
   "execution_count": null,
   "id": "6fad81f1-0b71-450e-96fb-1b4f22a2803a",
   "metadata": {},
   "outputs": [],
   "source": [
    "from sklearn.metrics import confusion_matrix\n",
    "mat = confusion_matrix(test.target, labels)\n",
    "sns.heatmap(mat.T, square=True, annot=True, fmt='d', cbar=False,\n",
    "            xticklabels=train.target_names, yticklabels=train.target_names)\n",
    "plt.xlabel('true label')\n",
    "plt.ylabel('predicted label');\n",
    "\n"
   ]
  },
  {
   "cell_type": "code",
   "execution_count": null,
   "id": "bfbb9ad1-bbaa-4532-a99a-e9e1cac4052a",
   "metadata": {},
   "outputs": [],
   "source": []
  }
 ],
 "metadata": {
  "kernelspec": {
   "display_name": "conda_python3",
   "language": "python",
   "name": "conda_python3"
  },
  "language_info": {
   "codemirror_mode": {
    "name": "ipython",
    "version": 3
   },
   "file_extension": ".py",
   "mimetype": "text/x-python",
   "name": "python",
   "nbconvert_exporter": "python",
   "pygments_lexer": "ipython3",
   "version": "3.10.6"
  }
 },
 "nbformat": 4,
 "nbformat_minor": 5
}
