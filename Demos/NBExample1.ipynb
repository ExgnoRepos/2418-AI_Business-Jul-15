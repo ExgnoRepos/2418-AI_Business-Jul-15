{
 "cells": [
  {
   "cell_type": "markdown",
   "id": "46cde086-2982-4c01-9478-dd423630314a",
   "metadata": {},
   "source": [
    "# Naive Bayes Example\n",
    "Classification using the classic IRIS dataset\n",
    "\n",
    "## Step One - Imports"
   ]
  },
  {
   "cell_type": "code",
   "execution_count": null,
   "id": "278d1b92-ba24-4669-ab65-658fa8be5859",
   "metadata": {},
   "outputs": [],
   "source": [
    "from sklearn.naive_bayes import GaussianNB\n",
    "from sklearn.model_selection import train_test_split\n",
    "from sklearn.metrics import confusion_matrix\n",
    "import numpy as np\n",
    "import pandas as pd\n",
    "import matplotlib.pyplot as plt\n",
    "import seaborn as sns; sns.set()"
   ]
  },
  {
   "cell_type": "markdown",
   "id": "4f7f83f7-56c8-46e9-aeca-dbb8d33a696b",
   "metadata": {},
   "source": [
    "## Step Two - Load the Data\n",
    "And create the test and training sets"
   ]
  },
  {
   "cell_type": "code",
   "execution_count": null,
   "id": "d9934bb7-379c-46fc-a385-933f1fd5a605",
   "metadata": {},
   "outputs": [],
   "source": [
    "training = pd.read_csv('https://raw.githubusercontent.com/selva86/datasets/master/iris_train.csv')\n",
    "test = pd.read_csv('https://raw.githubusercontent.com/selva86/datasets/master/iris_test.csv')"
   ]
  },
  {
   "cell_type": "code",
   "execution_count": null,
   "id": "947091f7-8ba2-4334-a2a7-8a8a903e4676",
   "metadata": {},
   "outputs": [],
   "source": [
    "xtrain = training.drop('Species', axis=1)\n",
    "ytrain = training.loc[:, 'Species']\n",
    "xtest = test.drop('Species', axis=1)\n",
    "ytest = test.loc[:, 'Species']"
   ]
  },
  {
   "cell_type": "markdown",
   "id": "4292b0b8-79ad-440d-a088-23172113bc39",
   "metadata": {},
   "source": [
    "## Step Three - Create the classifier and train"
   ]
  },
  {
   "cell_type": "code",
   "execution_count": null,
   "id": "08091ec4-3230-4968-ba8f-cb14d63a731d",
   "metadata": {},
   "outputs": [],
   "source": [
    "model = GaussianNB()\n",
    "model.fit(xtrain, ytrain)\n",
    "\n"
   ]
  },
  {
   "cell_type": "markdown",
   "id": "fef746f4-1a57-41fc-b479-4ea2a4c9e38a",
   "metadata": {},
   "source": [
    "## Step Four - Run the test dataset and plot the confusion matix\n"
   ]
  },
  {
   "cell_type": "code",
   "execution_count": null,
   "id": "b3dce8d5-3f03-432c-9019-af8bf6705bd0",
   "metadata": {},
   "outputs": [],
   "source": [
    "pred = model.predict(xtest)\n",
    "\n",
    "# Plot Confusion Matrix\n",
    "mat = confusion_matrix(pred, ytest)\n",
    "names = np.unique(pred)\n",
    "sns.heatmap(mat, square=True, annot=True, fmt='d', cbar=False,\n",
    "            xticklabels=names, yticklabels=names)\n",
    "plt.xlabel('Truth')\n",
    "plt.ylabel('Predicted')"
   ]
  },
  {
   "cell_type": "code",
   "execution_count": null,
   "id": "81122dcd-16df-4c75-8e67-503730caffba",
   "metadata": {},
   "outputs": [],
   "source": []
  }
 ],
 "metadata": {
  "kernelspec": {
   "display_name": "conda_python3",
   "language": "python",
   "name": "conda_python3"
  },
  "language_info": {
   "codemirror_mode": {
    "name": "ipython",
    "version": 3
   },
   "file_extension": ".py",
   "mimetype": "text/x-python",
   "name": "python",
   "nbconvert_exporter": "python",
   "pygments_lexer": "ipython3",
   "version": "3.10.6"
  }
 },
 "nbformat": 4,
 "nbformat_minor": 5
}
