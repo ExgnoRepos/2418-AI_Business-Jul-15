{
 "cells": [
  {
   "cell_type": "markdown",
   "id": "2e90f257-d8aa-4554-8283-5f0a9c364466",
   "metadata": {},
   "source": [
    "# K-Means Lab\n",
    "\n",
    "In this lab, you will apply K-Means to look for clusters that exist in randomly generated data\n",
    "\n",
    "You will be using SkLearn\n",
    "\n",
    "_Based on Lorraine Li's example_\n",
    "\n",
    "## Step One - Imports"
   ]
  },
  {
   "cell_type": "code",
   "execution_count": 1,
   "id": "907c5c34-dd8c-47ff-93e2-39bfc7e2f324",
   "metadata": {},
   "outputs": [],
   "source": [
    "import matplotlib.pyplot as plt\n",
    "from sklearn.datasets import make_blobs\n",
    "from sklearn.cluster import KMeans"
   ]
  },
  {
   "cell_type": "markdown",
   "id": "db092b20-5d5a-45b3-b370-ea996a9572a9",
   "metadata": {},
   "source": [
    "## Step Two - Generate the Data\n",
    "\n",
    "Notice that you are generating three clusters - the lab is about whether or not K-Means can figure out that the data is clustered"
   ]
  },
  {
   "cell_type": "code",
   "execution_count": null,
   "id": "0800d3a4-c1a5-4afb-804b-85179b3d5ff7",
   "metadata": {},
   "outputs": [],
   "source": [
    "X, y = make_blobs(\n",
    "   n_samples=150, n_features=2,\n",
    "   centers=3, cluster_std=0.5,\n",
    "   shuffle=True, random_state=0\n",
    ")\n",
    "\n",
    "plt.scatter(\n",
    "   X[:, 0], X[:, 1],\n",
    "   c='white', marker='o',\n",
    "   edgecolor='black', s=50\n",
    ")\n",
    "plt.show()"
   ]
  },
  {
   "cell_type": "markdown",
   "id": "319129ae-e798-41a4-88c6-63f4b679d07e",
   "metadata": {},
   "source": [
    "## Step Three - Look for elbows\n",
    "\n",
    "Of course, since you generated the data, you know that there are three clusters. This portion is about showing that the elbow analysis can figure that out"
   ]
  },
  {
   "cell_type": "code",
   "execution_count": null,
   "id": "085f2b39-9a62-4121-a3a3-ca13c0511810",
   "metadata": {},
   "outputs": [],
   "source": [
    "distortions = []\n",
    "for i in range(1, 11):\n",
    "    km = KMeans(\n",
    "        n_clusters=i, init='random',\n",
    "        n_init=10, max_iter=300,\n",
    "        tol=1e-04, random_state=0\n",
    "    )\n",
    "    km.fit(X)\n",
    "    distortions.append(km.inertia_)\n",
    "\n",
    "\n",
    "plt.plot(range(1, 11), distortions, marker='o')\n",
    "plt.xlabel('Number of clusters')\n",
    "plt.ylabel('Distortion')\n",
    "plt.show()"
   ]
  },
  {
   "cell_type": "markdown",
   "id": "608ad29d-4986-4cb1-8062-a4ac05a2cee8",
   "metadata": {},
   "source": [
    "## Step Four - Run K-Means"
   ]
  },
  {
   "cell_type": "code",
   "execution_count": 4,
   "id": "796b943a-bed8-4032-bc97-062f07944a26",
   "metadata": {},
   "outputs": [],
   "source": [
    "km = KMeans(\n",
    "    n_clusters=3, init='random',\n",
    "    n_init=10, max_iter=300, \n",
    "    tol=1e-04, random_state=0\n",
    ")\n",
    "y_km = km.fit_predict(X)"
   ]
  },
  {
   "cell_type": "markdown",
   "id": "335d7d81-50c2-4a57-ad94-655f42d02317",
   "metadata": {},
   "source": [
    "Plot the results"
   ]
  },
  {
   "cell_type": "code",
   "execution_count": null,
   "id": "10090989-7342-41ac-a6b5-402704e9aa3e",
   "metadata": {},
   "outputs": [],
   "source": [
    "plt.scatter(\n",
    "    X[y_km == 0, 0], X[y_km == 0, 1],\n",
    "    s=50, c='lightgreen',\n",
    "    marker='s', edgecolor='black',\n",
    "    label='cluster 1'\n",
    ")\n",
    "\n",
    "plt.scatter(\n",
    "    X[y_km == 1, 0], X[y_km == 1, 1],\n",
    "    s=50, c='orange',\n",
    "    marker='o', edgecolor='black',\n",
    "    label='cluster 2'\n",
    ")\n",
    "\n",
    "plt.scatter(\n",
    "    X[y_km == 2, 0], X[y_km == 2, 1],\n",
    "    s=50, c='lightblue',\n",
    "    marker='v', edgecolor='black',\n",
    "    label='cluster 3'\n",
    ")\n",
    "\n",
    "# plot the centroids\n",
    "plt.scatter(\n",
    "    km.cluster_centers_[:, 0], km.cluster_centers_[:, 1],\n",
    "    s=250, marker='*',\n",
    "    c='red', edgecolor='black',\n",
    "    label='centroids'\n",
    ")\n",
    "plt.legend(scatterpoints=1)\n",
    "plt.grid()\n",
    "plt.show()"
   ]
  },
  {
   "cell_type": "code",
   "execution_count": null,
   "id": "3af25dfb-e171-452b-b07f-df1b4197a9ce",
   "metadata": {},
   "outputs": [],
   "source": []
  }
 ],
 "metadata": {
  "kernelspec": {
   "display_name": "conda_python3",
   "language": "python",
   "name": "conda_python3"
  },
  "language_info": {
   "codemirror_mode": {
    "name": "ipython",
    "version": 3
   },
   "file_extension": ".py",
   "mimetype": "text/x-python",
   "name": "python",
   "nbconvert_exporter": "python",
   "pygments_lexer": "ipython3",
   "version": "3.10.6"
  }
 },
 "nbformat": 4,
 "nbformat_minor": 5
}
