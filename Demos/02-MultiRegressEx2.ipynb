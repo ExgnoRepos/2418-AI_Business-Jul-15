{
 "cells": [
  {
   "cell_type": "markdown",
   "id": "66e3c154-b729-4641-8f81-7c0e667d021b",
   "metadata": {},
   "source": [
    "# Multiple Linear Regression : House Prices\n",
    "\n",
    "## Step 1 - Load Data"
   ]
  },
  {
   "cell_type": "code",
   "execution_count": null,
   "id": "66c959ed-1204-4299-8987-3b9440e12002",
   "metadata": {},
   "outputs": [],
   "source": [
    "import os\n",
    "import urllib.request\n",
    "\n",
    "data_location = \"house-sales-full.csv\"\n",
    "data_url = 'https://elephantscale-public.s3.amazonaws.com/data/house-prices/house-sales-full.csv'\n",
    "\n",
    "\n",
    "if not os.path.exists (data_location):\n",
    "    data_location = os.path.basename(data_location)\n",
    "    if not os.path.exists(data_location):\n",
    "        print(\"Downloading : \", data_url)\n",
    "        urllib.request.urlretrieve(data_url, data_location)\n",
    "print('data_location:', data_location)"
   ]
  },
  {
   "cell_type": "code",
   "execution_count": null,
   "id": "660fa05a-664f-4118-957d-462f8712fdd0",
   "metadata": {},
   "outputs": [],
   "source": [
    "import pandas as pd\n",
    "pd.options.display.float_format = '{:,.2f}'.format\n",
    "\n",
    "house_prices = pd.read_csv(data_location)\n",
    "house_prices"
   ]
  },
  {
   "cell_type": "markdown",
   "id": "42b73fcd-bdef-41e4-bdb6-3f06b7b3f1f6",
   "metadata": {},
   "source": [
    "## Step 2 - Explore Data (EDA)\n",
    "EDA is a great way to get a sense of the data.  \n",
    "\n",
    "Try to find answers to the following questions, by looking at the output of `describe` below\n",
    "\n",
    "- How many 'max' bedrooms do we have? :-)\n",
    "- Find min/max of 'SalePrice'\n",
    "- Do you think we have outliers in data"
   ]
  },
  {
   "cell_type": "code",
   "execution_count": null,
   "id": "905940a2-72d1-44f4-93c7-542dd7bed400",
   "metadata": {},
   "outputs": [],
   "source": [
    "house_prices.describe()"
   ]
  },
  {
   "cell_type": "code",
   "execution_count": null,
   "id": "aca6e1b6-cd19-4194-b21e-82aca8853026",
   "metadata": {},
   "outputs": [],
   "source": [
    "## any correlation\n",
    "house_prices.corr()"
   ]
  },
  {
   "cell_type": "markdown",
   "id": "d055eb03-638a-4bc9-8550-38cff09b863c",
   "metadata": {},
   "source": [
    "## Step 3 - Shape Data\n",
    "Wow! That's a lot of columns.  Maybe we should foucs on just a few of them.\n",
    "\n",
    "**=> Select only \"SalePrice\", \"Bedrooms\", \"Bathrooms\", \"SqFtTotLiving\", \"SqFtLot\"**"
   ]
  },
  {
   "cell_type": "code",
   "execution_count": null,
   "id": "adfe50e8-5c14-4256-b110-730ba86a9704",
   "metadata": {},
   "outputs": [],
   "source": [
    "input_columns= ['Bedrooms', 'Bathrooms', 'SqFtTotLiving', 'SqFtLot']\n",
    "label_column = ['SalePrice']\n",
    "\n",
    "house_prices2 = house_prices[input_columns + label_column]\n",
    "house_prices2"
   ]
  },
  {
   "cell_type": "code",
   "execution_count": null,
   "id": "c946d403-39bb-46a2-b9c4-fcb808078544",
   "metadata": {},
   "outputs": [],
   "source": [
    "x = house_prices2[input_columns]\n",
    "y = house_prices2[label_column]\n",
    "\n",
    "print (\"x.shape = \", x.shape)\n",
    "print (\"y.shape = \", y.shape)"
   ]
  },
  {
   "cell_type": "markdown",
   "id": "8776e451-b348-4ac4-86d4-7e6fd9709238",
   "metadata": {},
   "source": [
    "## Step 4 : Run Regression"
   ]
  },
  {
   "cell_type": "code",
   "execution_count": null,
   "id": "87bfff38-6dd0-45d9-8a31-cc5522639d44",
   "metadata": {},
   "outputs": [],
   "source": [
    "from sklearn.linear_model import LinearRegression\n",
    "\n",
    "model = LinearRegression ().fit(x,y)\n",
    "model"
   ]
  },
  {
   "cell_type": "markdown",
   "id": "49b5bbfe-e67e-4620-8355-870525bc79a8",
   "metadata": {},
   "source": [
    "## Step 5 : Predict"
   ]
  },
  {
   "cell_type": "code",
   "execution_count": null,
   "id": "b4e47c08-0878-4870-8db9-d70b55a9133b",
   "metadata": {},
   "outputs": [],
   "source": [
    "predictions = model.predict(x)\n",
    "predictions"
   ]
  },
  {
   "cell_type": "code",
   "execution_count": null,
   "id": "723a9015-9420-4517-91c8-1445f651b752",
   "metadata": {},
   "outputs": [],
   "source": [
    "pd.options.display.float_format = '{:,.2f}'.format\n",
    "\n",
    "a = house_prices2[input_columns  + label_column]\n",
    "a['predicted_price'] = predictions\n",
    "a"
   ]
  },
  {
   "cell_type": "markdown",
   "id": "bed0ffab-c9f4-4a86-9d14-08dfc0a189df",
   "metadata": {},
   "source": [
    "## Step 6 : Evaluate\n",
    "\n",
    "**Q==> Are any coefficients close to zero?  What does that mean?**\n",
    "\n",
    "**Q==> Also inspect R2 value.  Is it decent?**"
   ]
  },
  {
   "cell_type": "code",
   "execution_count": null,
   "id": "423c8875-5530-4f4e-bef9-2e9b62a01e2e",
   "metadata": {},
   "outputs": [],
   "source": [
    "import numpy as np\n",
    "np.set_printoptions(precision=2, suppress=True)\n",
    "\n",
    "print (\"coefficients: \" , model.coef_)\n",
    "print (\"intercept : \", model.intercept_)"
   ]
  },
  {
   "cell_type": "code",
   "execution_count": null,
   "id": "751daecb-a59c-4037-9850-b8332385d19c",
   "metadata": {},
   "outputs": [],
   "source": [
    "## print each feature and it's coefficients\n",
    "coef = pd.DataFrame({\"input_column\" : input_columns,  \n",
    "                     \"coefficient\": model.coef_[0]})\n",
    "coef"
   ]
  },
  {
   "cell_type": "code",
   "execution_count": null,
   "id": "7d20e741-9b87-44f1-83a2-019d36bc955a",
   "metadata": {},
   "outputs": [],
   "source": [
    "from sklearn.metrics import mean_squared_error, r2_score\n",
    "from math import sqrt\n",
    "\n",
    "print (\"R2 : \" , r2_score(y, predictions))\n",
    "print (\"MSE : \", mean_squared_error(y, predictions))\n",
    "print (\"RMSE : \", sqrt(mean_squared_error(y, predictions)) )"
   ]
  },
  {
   "cell_type": "markdown",
   "id": "5ffa60bf-d9b6-4ccc-bc85-c91d03ef62f5",
   "metadata": {},
   "source": [
    "## Step 7 : Predict on New Data"
   ]
  },
  {
   "cell_type": "code",
   "execution_count": null,
   "id": "01afab4a-7c13-48ed-b552-b8f3ec7c6901",
   "metadata": {},
   "outputs": [],
   "source": [
    "new_data = pd.DataFrame({'Bedrooms' : [5,3,2],\n",
    "                         'Bathrooms' : [3,2,1.5],\n",
    "                         'SqFtTotLiving' : [4400, 1800, 1550],\n",
    "                         'SqFtLot' : [10000, 5000, 4000]\n",
    "             })\n",
    "new_data"
   ]
  },
  {
   "cell_type": "code",
   "execution_count": null,
   "id": "c362d0f7-abbb-474c-b267-5bb34aa29a70",
   "metadata": {},
   "outputs": [],
   "source": [
    "new_prediction = model.predict(new_data)\n",
    "new_prediction"
   ]
  },
  {
   "cell_type": "code",
   "execution_count": null,
   "id": "194d3644-79d4-4790-8720-f073af7d69a0",
   "metadata": {},
   "outputs": [],
   "source": [
    "pd.options.display.float_format = '{:,.2f}'.format\n",
    "\n",
    "new_data['predicted_price'] = new_prediction\n",
    "new_data"
   ]
  },
  {
   "cell_type": "markdown",
   "id": "06b00773-d523-4418-a589-ff7647d187e5",
   "metadata": {},
   "source": [
    "## Step 8 : Imporove Model Performance\n",
    "Now that we have done a 'end-to-end' implementation in Regression.  \n",
    "How ever our accuracy isn't all that great!  \n",
    "\n",
    "**Q ==> What can we do to improve our model?**\n",
    "\n",
    "One option is to choose better input columns.  \n",
    "in Step-3, add more input columns.\n",
    "For example you can add 'LandVal' to input columns as follows\n",
    "\n",
    "```python\n",
    "input_columns= ['Bedrooms', 'Bathrooms', 'SqFtTotLiving', 'SqFtLot', 'LandVal']\n",
    "```\n"
   ]
  },
  {
   "cell_type": "code",
   "execution_count": null,
   "id": "33a16936-a404-462b-b29d-2a5e7a490715",
   "metadata": {},
   "outputs": [],
   "source": []
  }
 ],
 "metadata": {
  "kernelspec": {
   "display_name": "conda_python3",
   "language": "python",
   "name": "conda_python3"
  },
  "language_info": {
   "codemirror_mode": {
    "name": "ipython",
    "version": 3
   },
   "file_extension": ".py",
   "mimetype": "text/x-python",
   "name": "python",
   "nbconvert_exporter": "python",
   "pygments_lexer": "ipython3",
   "version": "3.10.6"
  }
 },
 "nbformat": 4,
 "nbformat_minor": 5
}
